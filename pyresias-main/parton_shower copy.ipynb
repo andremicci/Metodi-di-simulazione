{
 "cells": [
  {
   "cell_type": "markdown",
   "metadata": {},
   "source": [
    "#### Parton Shower"
   ]
  },
  {
   "cell_type": "code",
   "execution_count": 196,
   "metadata": {},
   "outputs": [],
   "source": [
    "from random import * \n",
    "import math \n",
    "import numpy as np \n",
    "import scipy \n",
    "from scipy import optimize\n",
    "from matplotlib import pyplot as plt\n",
    "from tqdm import tqdm \n",
    "from scipy.integrate import quad # for numerical integrals\n",
    "from alphaS import * \n"
   ]
  },
  {
   "cell_type": "markdown",
   "metadata": {},
   "source": [
    "Inizializzo $\\alpha_S$ passando come riferimento la massa dello Z"
   ]
  },
  {
   "cell_type": "code",
   "execution_count": 197,
   "metadata": {},
   "outputs": [],
   "source": [
    "aS=alphaS(0.118,91.186)"
   ]
  },
  {
   "cell_type": "code",
   "execution_count": 198,
   "metadata": {},
   "outputs": [],
   "source": [
    "# RUN OPTIONS: parametri fondamentali\n",
    "\n",
    "# Numero di linee di quark da simulare\n",
    "\n",
    "Nevolve = 100000\n",
    "\n",
    "# scala del cutoff\n",
    "Qc = 1.\n",
    "\n",
    "# the hard scale, e.g. 1000 GeV\n",
    "Q = 1000."
   ]
  },
  {
   "cell_type": "markdown",
   "metadata": {},
   "source": [
    "Nel codice originale veniva data la possibilità di usare $\\alpha_S(Q)$ fissa. Questo generava un numero troppo basso di emissioni, cosa non fisica. Quindi ho tolto questa possibilità dal codice."
   ]
  },
  {
   "cell_type": "code",
   "execution_count": 199,
   "metadata": {},
   "outputs": [],
   "source": [
    "scaleoption=\"pt\" #alternativa 'pt' \n",
    "fixedscale=Q/2.\n"
   ]
  },
  {
   "cell_type": "markdown",
   "metadata": {},
   "source": [
    "Let's now define:\n",
    "\n",
    "- the splitting function, $P(z) = C_F \\frac{1+z^2}{1-z}$, given by ```Pqq(z)```,\n",
    "- the overestimate of the splitting function $\\hat{P} = C_F\\frac{2}{1-z}$, given by ```Pqq_over(z)```,\n",
    "- il momento trasverso del gluone/quark $$\n",
    "- la massa virtuale del quark iniziale $$\n",
    "- a function that returns the scale of $\\alpha_S$, according to the global variable ```scaleoption```, ```scale_of_alphaS```,\n",
    "- the function that returns $\\alpha_S$, accessed through ```LHAPDF```, ```alphaS```,\n",
    "- and the function that gives the overestimate of $\\alpha_S$, ```get_alphaS_over```. "
   ]
  },
  {
   "cell_type": "code",
   "execution_count": 200,
   "metadata": {},
   "outputs": [],
   "source": [
    "def Pqq(z):\n",
    "    return CF*(1.+z**2)/(1.-z)\n",
    "\n",
    "def Pqq_over(z):\n",
    "    return 2*CF/(1.-z)\n",
    "\n",
    "# calculate the transverse momentum of the emission\n",
    "\n",
    "def Get_pTsq(t, z): return z**2 * (1-z)**2 * t\n",
    "\n",
    "# calculate the virtual mass-squared of the emitting particle\n",
    "\n",
    "def Get_mvirtsq(t,z): return z*(1-z) * t\n",
    "\n",
    "def alphaS(t, z):\n",
    "\n",
    "    if scaleoption == \"pt\":\n",
    "        scale= z * (1-z) * math.sqrt(t)\n",
    "    elif scaleoption == \"fixed\":\n",
    "        scale= fixedscale\n",
    "    \n",
    "    if scale < Qc:\n",
    "        return aS.alphasQ(Qc)/2./math.pi\n",
    "    \n",
    "    return aS.alphasQ(scale)/2./math.pi\n",
    "\n",
    "\n",
    "def get_alphaS_over():\n",
    "    \n",
    "    if scaleoption == \"pt\":\n",
    "        minscale = Qc # the minimum scale^2 available to the PDF\n",
    "        scale = minscale\n",
    "        \n",
    "    elif scaleoption == \"fixed\":\n",
    "        scale = fixedscale\n",
    "        \n",
    "    alphaS_over = aS.alphasQ(scale)/2./math.pi\n",
    "    \n",
    "    return alphaS_over\n",
    "\n",
    "\n"
   ]
  },
  {
   "cell_type": "markdown",
   "metadata": {},
   "source": [
    "- the function $t \\times \\hat{\\Gamma}(z) = \\int_{\\hat{z}_-}^{\\hat{z}^+} \\mathrm{d} z \\frac{\\hat{\\alpha_S}}{2\\pi} \\hat{P}(z)=\\int_{\\hat{z}_-}^{\\hat{z}^+} \\mathrm{d} z \\frac{\\hat{\\alpha_S}}{2\\pi} C_F \\frac{2}{1-z} =\\frac{\\hat{\\alpha_S}}{2\\pi} 2 C_F \\log(\\frac{1-\\hat{z}^-}{1+\\hat{z}^+})$, given by ```tGamma```.\n",
    "\n",
    "  In realtà tGamma mi da $t \\times \\hat{\\Gamma}(z) = \\int_{}^{z} \\mathrm{d} z' \\frac{\\hat{\\alpha_S}}{2\\pi} \\hat{P}(z')=\\int_{}^{z} \\mathrm{d} z' \\frac{\\hat{\\alpha_S}}{2\\pi} C_F \\frac{2}{1-z'}=-\\frac{\\hat{\\alpha_S}}{2\\pi} 2 C_F \\log(1-z)$\n",
    "- the inverse of the function $t \\times \\hat{\\Gamma}(z)$, given by ```inversetGamma```,\n",
    "- the overestimates of the limits of integration $\\hat{z}_-$ and $\\hat{z}_+$, given by ```zm_over``` and ```zp_over```:\n",
    "\n",
    "  $\\hat{z}_+(t)=1-\\sqrt{\\frac{Q_c^2}{t}}$\n",
    "\n",
    "  $\\hat{z}_-(t)=\\sqrt{\\frac{Q_c^2}{t}}$\n"
   ]
  },
  {
   "cell_type": "code",
   "execution_count": 201,
   "metadata": {},
   "outputs": [],
   "source": [
    "def tGamma(z):\n",
    "    return -2*get_alphaS_over()*CF*np.log(1.-z)\n",
    "\n",
    "def Inverse_tGamma(y):\n",
    "     return 1. - np.exp(- 0.5*y/CF/get_alphaS_over())\n",
    "\n",
    "def rho(z1,z2):\n",
    "    return tGamma(z1)-tGamma(z2)\n",
    "\n",
    "#ancora non ho capito da dove arrivano questi \n",
    "\n",
    "def zp_over(t):\n",
    "    return 1-np.sqrt(Qc**2/t)\n",
    "def zm_over(t):\n",
    "    return np.sqrt(Qc**2/t)\n",
    "\n",
    "\n",
    "def Get_zEmission(t,R):\n",
    "    return Inverse_tGamma(tGamma(zm_over(t))+R*( tGamma(zp_over(t))-tGamma(zm_over(t)) ))\n",
    "\n"
   ]
  },
  {
   "cell_type": "markdown",
   "metadata": {},
   "source": [
    "Given the above, the treatment now proceeds as follows:\n",
    "\n",
    "The overstimate of the Sudakov form factor is given by:\n",
    "\n",
    "$\\hat{\\Delta}(t, t_\\mathrm{max}) = \\exp\\left\\{ - \\int^{t_\\mathrm{max}}_{t} \\mathrm{d}t' \\hat{\\Gamma} (t') \\right\\}$,\n",
    "\n",
    "with:\n",
    "\n",
    "$\\hat{\\Gamma} (t') = \\frac{1}{t'}   \\int_{\\hat{z}_-}^{\\hat{z}^+} \\mathrm{d} z \\frac{\\hat{\\alpha_S}}{2\\pi} \\hat{P}(z)$.\n",
    "\n",
    "We are working with the overestimated functions, and this allows us to analytically solve:\n",
    "\n",
    "$\\hat{\\Delta}(t, t_\\mathrm{max}) = R$, \n",
    "\n",
    "where $R$ is a random number in $[0,1]$. \n",
    "\n",
    "Therefore, we are seeking the solution of:\n",
    "\n",
    "$\\exp\\left\\{ - \\int^{t_\\mathrm{max}}_{t} \\mathrm{d}t' \\hat{\\Gamma} (t') \\right\\} = R$,\n",
    "\n",
    "or:\n",
    "\n",
    "$\\int^{t_\\mathrm{max}}_{t} \\mathrm{d}t' \\hat{\\Gamma} (t') = \\ln\\left(\\frac{1}{R}\\right)$.\n",
    "\n",
    "Definiamo la funzione  $\\rho({\\hat{z(t')}_+},{\\hat{z(t')}_-}) = \\int_{\\hat{z}_-}^{\\hat{z}^+} \\mathrm{d} z \\frac{\\hat{\\alpha_S}}{2\\pi} \\hat{P}(z) = t'\\hat{\\Gamma} (t') $, to obtain:\n",
    "\n",
    "$\\int^{t_\\mathrm{max}}_{t} \\frac{\\mathrm{d}t'}{t'} \\rho(t') = \\ln\\left(\\frac{1}{R}\\right)$, \n",
    "\n",
    "or:\n",
    "\n",
    "$\\int^{t_\\mathrm{max}}_{t'} \\mathrm{d}\\ln t' \\rho(t) = \\ln\\left(\\frac{1}{R}\\right)$.\n",
    "\n",
    "If the limit overestimates in $\\rho({\\hat{z}_+},{\\hat{z}_-})$ do not depend on $t'$, then: \n",
    "\n",
    "$\\left. \\rho \\ln t \\right|_t^{t_\\mathrm{max}} = \\ln\\left(\\frac{1}{R}\\right) \\Rightarrow \\rho \\ln \\frac{t_\\mathrm{max}}{t}  = \\ln\\left(\\frac{1}{R}\\right) $, \n",
    "\n",
    "which yields after exponentiation:\n",
    "\n",
    "$t =  t_\\mathrm{max} R^{1/\\rho}$.\n",
    "\n",
    "In the numerical evaluation of $t$, we instead focus on:\n",
    "\n",
    "$\\ln \\frac{t}{t_\\mathrm{max}} = \\frac{1}{\\rho} \\ln R$,\n",
    "\n",
    "and construct the function:\n",
    "\n",
    "$E(t) = \\ln \\frac{t}{t_\\mathrm{max}} - \\frac{1}{\\rho} \\ln R$,\n",
    "\n",
    "where now, explicitly, $\\rho({\\hat{z}_+},{\\hat{z}_-}) = \\int_{\\hat{z}_-}^{\\hat{z}_+} \\mathrm{d} z \\frac{\\hat{\\alpha_S}}{2\\pi} \\hat{P}(z) = \\int^{\\hat{z}_+} \\mathrm{d} z \\frac{\\hat{\\alpha_S}}{2\\pi} \\hat{P}(z) - \\int^{\\hat{z}_-} \\mathrm{d} z \\frac{\\hat{\\alpha_S}}{2\\pi} \\hat{P}(z)$.\n",
    "\n",
    "The function ```EmissionScaleFunc``` in the code that follows corresponds to $E(t)$ and the $\\rho$ function is calculated via: ```r = tGamma(zp_over(t, Qc), aSover) - tGamma(zm_over(t, Qc), aSover)```. \n",
    "\n",
    "The \"next\" value of $t$ is then calculated by solving $E(t)=0$ in the function ```Get_tEmission```. This is done numerically via ```scipy.optimize.ridder```. \n",
    "\n",
    "The ```Get_tEmission``` function actually finds the value of $\\ln(t/t_\\mathrm{max})$ for which the solution is obtained, and therefore needs to be exponentiated and multiplied by $t_\\mathrm{max}$ (represented by ```Q**2```) to get the value of $t$. "
   ]
  },
  {
   "cell_type": "code",
   "execution_count": 202,
   "metadata": {},
   "outputs": [],
   "source": [
    "def EmissionScaleFunc(logt_over_Qsq,Q,R):\n",
    "\n",
    "    t = Q**2 * np.exp( logt_over_Qsq )\n",
    "    \n",
    "    r=rho(zp_over(t),zm_over(t))\n",
    "\n",
    "    return logt_over_Qsq-(1./r)*np.log(R)\n",
    "\n",
    "# una funzione che calcola numericamente la scala di emissione t dato la scala iniziale Q (il t da cui si parte), il cutoff Qc e un numero casuale R\n",
    "\n",
    "def Get_tEmission(Q, tfac,R):\n",
    "\n",
    "    tolerance = 1E-3 # the tolerance for the solution\n",
    "\n",
    "    EmissionFunc_arg = lambda x : EmissionScaleFunc(x, Q,R) # the function in a form appropriate for the solver\n",
    "\n",
    "    # calculate the solution using \"Ridder's\" method\n",
    "\n",
    "    lower_bound=np.log(tfac*Qc**2/Q**2)\n",
    "    upper_bound=0.\n",
    "\n",
    "    sol, results = scipy.optimize.ridder(EmissionFunc_arg, lower_bound, upper_bound, xtol=tolerance, full_output=True, maxiter=1000)\n",
    "\n",
    "    tEm = Q**2 * np.exp( sol )\n",
    "\n",
    "    # if a solution has not been found, terminate the evolution \n",
    "    #        \n",
    "    if abs(EmissionFunc_arg(sol)) > tolerance:\n",
    "            return Q**2, [], False\n",
    "            \n",
    "    # otherwise return the emission scale and continue\n",
    "    return tEm, results, True"
   ]
  },
  {
   "cell_type": "code",
   "execution_count": 203,
   "metadata": {},
   "outputs": [
    {
     "data": {
      "text/plain": [
       "(613806.8199348958,\n",
       "       converged: True\n",
       "            flag: 'converged'\n",
       "  function_calls: 8\n",
       "      iterations: 3\n",
       "            root: -0.041787923224764864,\n",
       " True)"
      ]
     },
     "execution_count": 203,
     "metadata": {},
     "output_type": "execute_result"
    },
    {
     "data": {
      "image/png": "[encoded data removed]",
      "text/plain": [
       "<Figure size 640x480 with 1 Axes>"
      ]
     },
     "metadata": {},
     "output_type": "display_data"
    }
   ],
   "source": [
    "x=np.linspace(math.log(Qc**2/Q**2),0.1,200)\n",
    "o=0.95\n",
    "plt.plot(EmissionScaleFunc(x,Q,o))\n",
    "Get_tEmission(800,3.99,o)\n"
   ]
  },
  {
   "cell_type": "markdown",
   "metadata": {},
   "source": [
    "To get the $z$ variable, we need to solve:\n",
    "\n",
    "$ \\rho (z,{\\hat{z}_-}) = R' \\rho({\\hat{z}_+},{\\hat{z}_-})$,\n",
    "\n",
    "where $R'$ is another random number in $[0,1]$. \n",
    "\n",
    "Recalling that: \n",
    "\n",
    "$t' \\hat{\\Gamma} (t') = \\int_{\\hat{z}_-}^{\\hat{z}_+} \\mathrm{d} z \\frac{\\hat{\\alpha_S}}{2\\pi} \\hat{P}(z)$, \n",
    "\n",
    "we now define\n",
    "\n",
    "$\\tilde{\\rho}(z) = \\int^{z} \\mathrm{d} z \\frac{\\hat{\\alpha_S}}{2\\pi} \\hat{P}(z)$, we can write the equation for $z$ as:\n",
    "\n",
    "$\\tilde{\\rho}(z) - \\tilde{\\rho}({\\hat{z}_-}) = R' \\left[ \\tilde{\\rho}({\\hat{z}_+}) - \\tilde{\\rho}({\\hat{z}_-}) \\right]$,\n",
    "\n",
    "and we obtain $z$ by solving:\n",
    "\n",
    "$ z = \\tilde{\\rho}^{-1} \\left\\{ \\tilde{\\rho}({\\hat{z}_-}) + R' \\left[\\tilde{\\rho}({\\hat{z}_+}) - \\tilde{\\rho}({\\hat{z}_-}) \\right] \\right\\}$,\n",
    "\n",
    "where $\\tilde{\\rho}^{-1}$ is the inverse of $\\tilde{\\rho}$, which is given by the ```inversetGamma``` function in our code. \n",
    "\n",
    "The following function ```Generate_Emission``` solves for the next $t$ and $z$ using the overestimates, and then implements the vetoing by constructing a probability with the full splitting function and value of $\\alpha_S$. "
   ]
  },
  {
   "cell_type": "code",
   "execution_count": 204,
   "metadata": {},
   "outputs": [],
   "source": [
    "# function that generates emissions:\n",
    "def Generate_Emission(Q, tfac):\n",
    "    \n",
    "    generated = True\n",
    "\n",
    "    R1 = random()\n",
    "    R2 = random()\n",
    "    R3 = random() #veto test over z\n",
    "    R4 = random() #veto test\n",
    "    \n",
    "    # solve for the (candidate) emission scale:\n",
    "\n",
    "    tEm, results, continueEvolution = Get_tEmission(Q,tfac,R1)\n",
    "    \n",
    "\n",
    "    # if no solution is found then end branch\n",
    "\n",
    "    if continueEvolution == False:\n",
    "        zEm = 1.\n",
    "        pTsqEm = 0.\n",
    "        MsqEm = 0.\n",
    "        return tEm, zEm, pTsqEm, MsqEm, generated, continueEvolution\n",
    "\n",
    "    \n",
    "    \n",
    "    # get the (candidate) z of the emission\n",
    "    zEm = Get_zEmission(tEm,R2)\n",
    "    \n",
    "    # get the transverse momentum \n",
    "    pTsqEm = Get_pTsq(tEm, zEm)\n",
    "\n",
    "    \n",
    "\n",
    "    # now check the conditions to accept or reject the emission:\n",
    "    # check if the transverse momentum is physical:\n",
    "    if pTsqEm < 0.:\n",
    "      \n",
    "        generated = False\n",
    "        \n",
    "    # compare the splitting function overestimate prob to a random number\n",
    "    if Pqq(zEm)/Pqq_over(zEm) < R3:\n",
    "        generated = False\n",
    "    \n",
    "    # compare the alphaS overestimate prob to a random number\n",
    "    if alphaS(tEm, zEm)/get_alphaS_over() < R4:\n",
    "        generated = False\n",
    "    \n",
    "    # get the virtual mass squared:\n",
    "    MsqEm = Get_mvirtsq(tEm, zEm)\n",
    "    if generated == False: # rejected emission\n",
    "        zEm = 1.\n",
    "        pTsqEm = 0.\n",
    "        MsqEm = 0.\n",
    "    # return all the variables for the emission\n",
    "    return tEm, zEm, pTsqEm, MsqEm, generated, continueEvolution"
   ]
  },
  {
   "cell_type": "markdown",
   "metadata": {},
   "source": [
    "The above function generates the next emission scale and momentum fraction. To get the full evolution, the main function uses it, until the cutoff scale is reached. \n",
    "\n",
    "Note that the next evolution scale is set to $\\tilde{t} z^2$ in order to implement angular ordering in the branchings"
   ]
  },
  {
   "cell_type": "code",
   "execution_count": 205,
   "metadata": {},
   "outputs": [],
   "source": [
    "# the function that performs the evolution of a single branch:\n",
    "# returns a list of all the emissions for further processing\n",
    "\n",
    "def Evolve(Q):\n",
    "    # the minimum evolution scale\n",
    "    tEm_min = Qc**2\n",
    "    # counter for the number of emissions:\n",
    "    Nem = 0\n",
    "    # array to store emission info:\n",
    "    Emissions = []\n",
    "\n",
    "    fac_tEm = 3.999 # minimum value for the cutoff to try emissions = fac_tEm * Qc**2 (should be less than the actual cutoff)\n",
    "    fac_cutoff = 4. # actual cutoff = fac_cutoff * Qc**2\n",
    "\n",
    "    # start the evolution\n",
    "\n",
    "    tEm = Q**2 # initial value of the evolution variable\n",
    "    zEm = 1 # initial value of the momentum fraction\n",
    "\n",
    "    \n",
    "\n",
    "    while np.sqrt(tEm)*zEm > np.sqrt(fac_cutoff*tEm_min):\n",
    "        # evolve:\n",
    "        tEm, zEm, pTsqEm, MsqEm, generatedEmission, continueEvolution = Generate_Emission(np.sqrt(tEm)*zEm, fac_tEm)\n",
    "\n",
    "        # if the solver could not find a solution, end the evolution\n",
    "        if continueEvolution == False:\n",
    "           return Emissions\n",
    "        # if we have already passed the cutoff this emission does not count\n",
    "        # this will also terminate the evolution\n",
    "        if tEm < fac_cutoff*tEm_min: \n",
    "           \n",
    "            zEm = 1.\n",
    "            pTsqEm = 0.\n",
    "            QsqEm = 0.\n",
    "        \n",
    "            return Emissions\n",
    "\n",
    "        # if the emission was successful, append to the Emissions list and continue\n",
    "        if zEm != 1.0:\n",
    "            \n",
    "            Emissions.append([math.sqrt(tEm), zEm, math.sqrt(pTsqEm), math.sqrt(MsqEm)])\n",
    "            Nem = Nem + 1\n",
    "            \n",
    "        \n",
    "\n",
    "   \n",
    "    return Emissions\n",
    "\n",
    "\n"
   ]
  },
  {
   "cell_type": "code",
   "execution_count": 206,
   "metadata": {},
   "outputs": [
    {
     "name": "stdout",
     "output_type": "stream",
     "text": [
      "Evolving 100000 branches from Q= 1000.0 GeV --> Qc= 1.0 GeV\n"
     ]
    },
    {
     "name": "stderr",
     "output_type": "stream",
     "text": [
      " 56%|█████▌    | 56000/100000 [04:50<05:28, 133.79it/s]"
     ]
    }
   ],
   "source": [
    "##########################\n",
    "# Evolution begins here! #\n",
    "##########################\n",
    "\n",
    "# set the overestimate of alphaS once and for all:\n",
    "\n",
    "# list to store all emission information:\n",
    "AllEmissions = []\n",
    "N_Emissions=[]\n",
    "\n",
    "print('Evolving', Nevolve, 'branches from Q=', Q, 'GeV --> Qc=', Qc, 'GeV')\n",
    "\n",
    "# perform evolution over Nevolve branches:\n",
    "for j in tqdm(list(range(Nevolve))): # tqdm is the progress bar \n",
    "    # perform the evolution over a single branch j and return a list of all the emissions:\n",
    "    \n",
    "    Emissions =Evolve(Q)\n",
    "    N_Emissions.append(len(Emissions))\n",
    "  \n",
    "    # concatenate the emissions of this evolution branch to the list of all emissions to plot\n",
    "    AllEmissions = AllEmissions + Emissions\n",
    "\n",
    "print('All evolutions ended')\n"
   ]
  },
  {
   "cell_type": "markdown",
   "metadata": {},
   "source": [
    "Let's compare the momentum fraction with the expected one from the full splitting function. Note that this will only be exact if the scale has been set to fixed, otherwise there will be some dependence of $\\alpha_S$ on $z$ by using the $p_T$ of the emissions as its argument. "
   ]
  },
  {
   "cell_type": "code",
   "execution_count": null,
   "metadata": {},
   "outputs": [
    {
     "data": {
      "text/plain": [
       "(array([4.3449e+04, 3.2217e+04, 1.6485e+04, 5.8490e+03, 0.0000e+00,\n",
       "        1.5950e+03, 3.3500e+02, 6.3000e+01, 6.0000e+00, 1.0000e+00]),\n",
       " array([0. , 0.8, 1.6, 2.4, 3.2, 4. , 4.8, 5.6, 6.4, 7.2, 8. ]),\n",
       " <BarContainer object of 10 artists>)"
      ]
     },
     "execution_count": 191,
     "metadata": {},
     "output_type": "execute_result"
    },
    {
     "data": {
      "image/png": "[encoded data removed]",
      "text/plain": [
       "<Figure size 640x480 with 1 Axes>"
      ]
     },
     "metadata": {},
     "output_type": "display_data"
    }
   ],
   "source": [
    "plt.hist(N_Emissions)"
   ]
  },
  {
   "cell_type": "code",
   "execution_count": null,
   "metadata": {},
   "outputs": [
    {
     "name": "stdout",
     "output_type": "stream",
     "text": [
      "---\n",
      "plotting z of emissions\n",
      "11.519552930481911\n",
      "0.9358882753052508\n",
      "11.519552930481911\n",
      "11.519552930481911\n"
     ]
    },
    {
     "data": {
      "text/plain": [
       "[]"
      ]
     },
     "execution_count": 192,
     "metadata": {},
     "output_type": "execute_result"
    },
    {
     "data": {
      "image/png": "[encoded data removed]",
      "text/plain": [
       "<Figure size 640x480 with 2 Axes>"
      ]
     },
     "metadata": {},
     "output_type": "display_data"
    }
   ],
   "source": [
    "ptarray=[]\n",
    "marray=[]\n",
    "zarray = []\n",
    "\n",
    "for i in range(len(AllEmissions)):\n",
    "    zarray.append(np.array(AllEmissions[i][1]))\n",
    "    ptarray.append(np.array(AllEmissions[i][2]))\n",
    "    marray.append(np.array(AllEmissions[i][3]))\n",
    "\n",
    "\n",
    "\n",
    "\n",
    "###########################\n",
    "print('---')\n",
    "print('plotting z of emissions')\n",
    "# plot settings ########\n",
    "plot_type = 'momentumfrac'\n",
    "# plot:\n",
    "# plot settings\n",
    "ylab = '$(1-z)P(z)$'\n",
    "xlab = '$z$'\n",
    "ylog = False\n",
    "xlog = False\n",
    "nbins=40\n",
    "# construct the axes for the plot\n",
    "fig = plt.figure(constrained_layout=True)\n",
    "\n",
    "import matplotlib.gridspec as gridspec # more plotting \n",
    "from prettytable import PrettyTable # pretty printing of tables\n",
    "from matplotlib.ticker import MultipleLocator\n",
    "\n",
    "gs = gridspec.GridSpec(4, 4,figure=fig,wspace=0, hspace=0)\n",
    "ax = fig.add_subplot(gs[:3, :])\n",
    "ax2 = fig.add_subplot(gs[3, :])\n",
    "gs.update(wspace=0,hspace=0)\n",
    "\n",
    "ax.grid(False)\n",
    "ax2.xaxis.set_minor_locator(MultipleLocator(0.05))\n",
    "ax2.yaxis.set_minor_locator(MultipleLocator(0.025))\n",
    "\n",
    "\n",
    "\n",
    "gs.update(wspace=0.0, hspace=0.0)\n",
    "\n",
    "# get the histogram bins:\n",
    "bins, edges = np.histogram(zarray, bins=nbins, density=True)\n",
    "\n",
    "left,right = edges[:-1],edges[1:]\n",
    "X = np.array([0.5*left+0.5*right]).T.flatten()\n",
    "Y = np.array([bins]).T.flatten() * (1-X)\n",
    "# normalise:\n",
    "xnorm_min=0.0\n",
    "xnorm_max=1.0\n",
    "\n",
    "#Y = Y/np.linalg.norm(Y)/(Y[1]-Y[0])\n",
    "#Ysum = Y[(X>xnorm_min) & (X<xnorm_max)].sum()\n",
    "gs.update(wspace=0.0, hspace=0.0)\n",
    "\n",
    "\n",
    "# compare to the input splitting function\n",
    "# this comparison is only correct if alphaS is fixed\n",
    "# this is because the scale of alphaS is also a function of z \n",
    "Yspl = Pqq(X) * (1-X)\n",
    "\n",
    "# get the integral numerically, but not in the whole range\n",
    "# since the splitting function diverges as z->1 and this cannot be captured numerically:\n",
    "zp = X[(X<xnorm_max)][-1]\n",
    "zm = X[(X>xnorm_min)][0]\n",
    "def Pqq1mz(z):\n",
    "    return Pqq(z) * (1-z)\n",
    "YsplI = quad(Pqq1mz, 0, 1)\n",
    "YsplI = np.linalg.norm(Yspl)\n",
    "print(np.linalg.norm(Yspl))\n",
    "ax.plot(X,Yspl, color='blue', lw=1, label='Splitting function', marker='x', ms=0)\n",
    "\n",
    "# plot:\n",
    "print(np.linalg.norm(Y))\n",
    "Y = YsplI * Y / np.linalg.norm(Y)\n",
    "print(np.linalg.norm(Y))\n",
    "print(YsplI)\n",
    "\n",
    "ax.plot(X,Y, label='Pyresias', color='red', lw=0, marker='o', ms=2)\n",
    "\n",
    "\n",
    "# ratio:\n",
    "ax2.plot(X,Y/Yspl, color='red', lw=0, label='Splitting function', marker='o', ms=2)\n",
    "ax2.hlines(y=1, xmin=0, xmax=1, color='black', ls='--')\n",
    "\n",
    "# set the ticks, labels and limits etc.\n",
    "ax.set_ylabel(ylab, fontsize=20)\n",
    "ax2.set_xlabel(xlab, fontsize=20)\n",
    "ax2.set_ylabel('Pyr./Spl.')\n",
    "ax2.set_ylim(0.9,1.1)\n",
    "ax2.set_xlim(0.0,1.0)\n",
    "ax.set_xlim(0.0,1.0)\n",
    "# choose x and y log scales\n",
    "if ylog:\n",
    "    ax.set_yscale('log')\n",
    "else:\n",
    "    ax.set_yscale('linear')\n",
    "if xlog:\n",
    "    ax.set_xscale('log')\n",
    "else:\n",
    "    ax.set_xscale('linear')\n",
    "\n",
    "# create legend and plot/font size\n",
    "ax.legend()\n",
    "ax.legend(loc=\"upper center\", numpoints=1, frameon=False, prop={'size':10})\n",
    "ax.set_xticklabels('')\n",
    "ax.set_xticks([])\n",
    "#infile = plot_type + '.dat'\n",
    "#plt.savefig('plots/' + infile.replace('.dat','.pdf'), bbox_inches='tight')\n"
   ]
  },
  {
   "cell_type": "code",
   "execution_count": null,
   "metadata": {},
   "outputs": [
    {
     "name": "stderr",
     "output_type": "stream",
     "text": [
      "Warning in <TROOT::Append>: Replacing existing TH1: pT (Potential memory leak).\n",
      "Warning in <TROOT::Append>: Replacing existing TH1: m (Potential memory leak).\n",
      "Warning in <TCanvas::Constructor>: Deleting canvas with same name: canvas\n"
     ]
    },
    {
     "data": {
      "image/png": "[encoded data removed]",
      "text/plain": [
       "<IPython.core.display.Image object>"
      ]
     },
     "metadata": {},
     "output_type": "display_data"
    }
   ],
   "source": [
    "import ROOT\n",
    "\n",
    "histogram_pt= ROOT.TH1D(\"pT\", \"pT\", 100,Qc,30)\n",
    "histogram_m=  ROOT.TH1D(\"m\", \"m\", 100,Qc,200)\n",
    "\n",
    "for i in range(len(AllEmissions)):\n",
    "    histogram_pt.Fill(ptarray[i])\n",
    "    histogram_m.Fill(marray[i])\n",
    "\n",
    "\n",
    "# Creare un canvas per disegnare l'istogramma\n",
    "canvas = ROOT.TCanvas(\"canvas\", \"Canvas\", 800, 600)\n",
    "\n",
    "# Mostrare il canvas con l'istogramma\n",
    "canvas.Update()\n",
    "canvas.Draw()\n",
    "histogram_m.Draw()"
   ]
  },
  {
   "cell_type": "code",
   "execution_count": null,
   "metadata": {},
   "outputs": [
    {
     "name": "stderr",
     "output_type": "stream",
     "text": [
      "Warning in <TCanvas::Constructor>: Deleting canvas with same name: canvas\n"
     ]
    },
    {
     "data": {
      "image/png": "[encoded data removed]",
      "text/plain": [
       "<IPython.core.display.Image object>"
      ]
     },
     "metadata": {},
     "output_type": "display_data"
    }
   ],
   "source": [
    "canvas = ROOT.TCanvas(\"canvas\", \"Canvas\", 800, 600)\n",
    "\n",
    "# Disegnare l'istogramma\n",
    "histogram_pt.Draw()\n",
    "# Mostrare il canvas con l'istogramma\n",
    "canvas.Update()\n",
    "canvas.Draw()\n",
    "\n"
   ]
  },
  {
   "cell_type": "code",
   "execution_count": null,
   "metadata": {},
   "outputs": [],
   "source": []
  },
  {
   "cell_type": "code",
   "execution_count": null,
   "metadata": {},
   "outputs": [],
   "source": []
  },
  {
   "cell_type": "code",
   "execution_count": null,
   "metadata": {},
   "outputs": [],
   "source": []
  }
 ],
 "metadata": {
  "kernelspec": {
   "display_name": "Python 3.8.10 64-bit",
   "language": "python",
   "name": "python3"
  },
  "language_info": {
   "codemirror_mode": {
    "name": "ipython",
    "version": 3
   },
   "file_extension": ".py",
   "mimetype": "text/x-python",
   "name": "python",
   "nbconvert_exporter": "python",
   "pygments_lexer": "ipython3",
   "version": "3.8.10"
  },
  "orig_nbformat": 4,
  "vscode": {
   "interpreter": {
    "hash": "31f2aee4e71d21fbe5cf8b01ff0e069b9275f58929596ceb00d14d90e3e16cd6"
   }
  }
 },
 "nbformat": 4,
 "nbformat_minor": 2
}
